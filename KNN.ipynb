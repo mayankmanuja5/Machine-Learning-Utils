{
 "cells": [
  {
   "cell_type": "code",
   "execution_count": 1,
   "metadata": {},
   "outputs": [],
   "source": [
    "import numpy as np\n",
    "from matplotlib import pyplot as plt\n",
    "%matplotlib inline"
   ]
  },
  {
   "cell_type": "code",
   "execution_count": 2,
   "metadata": {},
   "outputs": [
    {
     "name": "stdout",
     "output_type": "stream",
     "text": [
      "(500, 2) (500, 2)\n"
     ]
    }
   ],
   "source": [
    "mean_01 = np.array([1, 0.5])\n",
    "cov_01 = np.array([[1, 0.1], [0.1, 1.2]])\n",
    "\n",
    "mean_02 = np.array([4, 5])\n",
    "cov_02 = np.array([[1, 0.1], [0.1, 1.2]])\n",
    "\n",
    "# print mean_01\n",
    "# print cov_01\n",
    "\n",
    "dist_01 = np.random.multivariate_normal(mean_01, cov_01, 500)\n",
    "dist_02 = np.random.multivariate_normal(mean_02, cov_02, 500)\n",
    "print(dist_01.shape, dist_02.shape)"
   ]
  },
  {
   "cell_type": "code",
   "execution_count": 4,
   "metadata": {},
   "outputs": [
    {
     "data": {
      "image/png": "[encoded data removed]",
      "text/plain": [
       "<matplotlib.figure.Figure at 0x7fd877ac1048>"
      ]
     },
     "metadata": {},
     "output_type": "display_data"
    }
   ],
   "source": [
    "plt.figure(0)\n",
    "plt.xlim(-5, 10)\n",
    "plt.ylim(-5, 10)\n",
    "\n",
    "plt.scatter(dist_01[:, 0], dist_01[:, 1])\n",
    "plt.scatter(dist_02[:, 0], dist_02[:, 1])#, color='red')\n",
    "plt.show()"
   ]
  },
  {
   "cell_type": "code",
   "execution_count": 5,
   "metadata": {},
   "outputs": [
    {
     "name": "stdout",
     "output_type": "stream",
     "text": [
      "(1000, 3)\n",
      "[2.52713746 2.74233419 0.5       ]\n"
     ]
    }
   ],
   "source": [
    "r = dist_01.shape[0] + dist_02.shape[0]\n",
    "c = dist_01.shape[1] + 1\n",
    "data = np.zeros((r, c))\n",
    "print(data.shape)\n",
    "\n",
    "data[:dist_01.shape[0], :2] = dist_01\n",
    "data[dist_01.shape[0]:, :2] = dist_02\n",
    "data[dist_01.shape[0]:, -1] = 1.0\n",
    "\n",
    "print(data.mean(axis=0))"
   ]
  },
  {
   "cell_type": "code",
   "execution_count": 6,
   "metadata": {},
   "outputs": [
    {
     "name": "stdout",
     "output_type": "stream",
     "text": [
      "[[ 4.09227067  5.52356559  1.        ]\n",
      " [ 2.13608572  1.7851981   0.        ]\n",
      " [ 3.75089016  5.2123985   1.        ]\n",
      " [ 3.72184668  5.43712033  1.        ]\n",
      " [-0.10149367  0.23261814  0.        ]\n",
      " [ 2.65989079 -0.64217377  0.        ]\n",
      " [ 3.36462122  5.25075596  1.        ]\n",
      " [ 3.41927525  2.63573162  0.        ]\n",
      " [ 4.07025533  7.03569408  1.        ]\n",
      " [ 2.92413298  3.28047301  1.        ]]\n"
     ]
    }
   ],
   "source": [
    "np.random.shuffle(data)\n",
    "print(data[:10])"
   ]
  },
  {
   "cell_type": "code",
   "execution_count": 7,
   "metadata": {},
   "outputs": [],
   "source": [
    "def distance(x1, x2):\n",
    "    d = np.sqrt(((x1-x2)**2).sum())\n",
    "    return d\n",
    "\n",
    "def knn1(X_train, y_train, xt, k=150):\n",
    "    vals = []\n",
    "    for ix in range(X_train.shape[0]):\n",
    "        d = distance(X_train[ix], xt)\n",
    "        vals.append([d, y_train[ix]])\n",
    "    sorted_labels = sorted(vals, key=lambda z: z[0])\n",
    "    neighbours = np.asarray(sorted_labels)[:k, -1]\n",
    "    \n",
    "    freq = np.unique(neighbours, return_counts=True)\n",
    "    print (freq)\n",
    "    return freq[0][freq[1].argmax()]\n",
    "def knn(X_train, y_train, xt, k=7):\n",
    "    #TODO\n",
    "    dist=[]\n",
    "    for i in range(X_train.shape[0]):\n",
    "        d=distance(X_train[i],xt)\n",
    "        dist.append([d,y_train[i]])\n",
    "    #print (dist)\n",
    "    dist=sorted(dist)\n",
    "    dist=np.asarray(dist)[:k,-1]\n",
    "    dist=np.unique(dist,return_counts=True)\n",
    "    return dist[0][dist[1].argmax()]"
   ]
  },
  {
   "cell_type": "code",
   "execution_count": 8,
   "metadata": {},
   "outputs": [
    {
     "name": "stdout",
     "output_type": "stream",
     "text": [
      "0.0\n"
     ]
    }
   ],
   "source": [
    "test_point = np.array([8, -4])\n",
    "\n",
    "print(knn(data[:, :2], data[:, -1], test_point))"
   ]
  },
  {
   "cell_type": "code",
   "execution_count": 9,
   "metadata": {},
   "outputs": [
    {
     "name": "stdout",
     "output_type": "stream",
     "text": [
      "(750, 2) (750,)\n",
      "(250, 2) (250,)\n"
     ]
    }
   ],
   "source": [
    "np.random.shuffle(data)\n",
    "split = int(0.75 * data.shape[0])\n",
    "# print split\n",
    "train_data_X = data[:split, :2]\n",
    "train_data_y = data[:split, -1]\n",
    "test_data_X = data[split:, :2]\n",
    "test_data_y = data[split:, -1]\n",
    "\n",
    "print(train_data_X.shape, train_data_y.shape)\n",
    "print(test_data_X.shape, test_data_y.shape)"
   ]
  },
  {
   "cell_type": "code",
   "execution_count": 10,
   "metadata": {},
   "outputs": [
    {
     "name": "stdout",
     "output_type": "stream",
     "text": [
      "100.0\n"
     ]
    }
   ],
   "source": [
    "def get_acc(kx):\n",
    "    preds = []\n",
    "    # print kx\n",
    "    for ix in range(test_data_X.shape[0]):\n",
    "        preds.append(knn(train_data_X, train_data_y, test_data_X[ix], k=kx))\n",
    "    preds = np.asarray(preds)\n",
    "    \n",
    "    # print preds.shape\n",
    "    return 100*float((test_data_y == preds).sum())/preds.shape[0]\n",
    "\n",
    "print(get_acc(7))"
   ]
  },
  {
   "cell_type": "code",
   "execution_count": 11,
   "metadata": {},
   "outputs": [
    {
     "name": "stdout",
     "output_type": "stream",
     "text": [
      "k: 2 | Acc: 98.8\n",
      "k: 3 | Acc: 99.6\n",
      "k: 4 | Acc: 100.0\n",
      "k: 5 | Acc: 100.0\n",
      "k: 6 | Acc: 100.0\n",
      "k: 7 | Acc: 100.0\n",
      "k: 8 | Acc: 100.0\n",
      "k: 9 | Acc: 100.0\n",
      "k: 10 | Acc: 100.0\n",
      "k: 11 | Acc: 100.0\n",
      "k: 12 | Acc: 100.0\n",
      "k: 13 | Acc: 100.0\n",
      "k: 14 | Acc: 100.0\n",
      "k: 15 | Acc: 100.0\n",
      "k: 16 | Acc: 100.0\n",
      "k: 17 | Acc: 100.0\n",
      "k: 18 | Acc: 100.0\n",
      "k: 19 | Acc: 100.0\n"
     ]
    }
   ],
   "source": [
    "for ix in range(2, 20):\n",
    "    print (\"k:\", ix, \"| Acc:\", get_acc(ix))"
   ]
  },
  {
   "cell_type": "code",
   "execution_count": 12,
   "metadata": {},
   "outputs": [],
   "source": [
    "import pandas as pd\n",
    "import datetime"
   ]
  },
  {
   "cell_type": "code",
   "execution_count": 19,
   "metadata": {},
   "outputs": [
    {
     "data": {
      "text/html": [
       "<div>\n",
       "<style scoped>\n",
       "    .dataframe tbody tr th:only-of-type {\n",
       "        vertical-align: middle;\n",
       "    }\n",
       "\n",
       "    .dataframe tbody tr th {\n",
       "        vertical-align: top;\n",
       "    }\n",
       "\n",
       "    .dataframe thead th {\n",
       "        text-align: right;\n",
       "    }\n",
       "</style>\n",
       "<table border=\"1\" class=\"dataframe\">\n",
       "  <thead>\n",
       "    <tr style=\"text-align: right;\">\n",
       "      <th></th>\n",
       "      <th>ID</th>\n",
       "      <th>age</th>\n",
       "      <th>sex</th>\n",
       "      <th>chest</th>\n",
       "      <th>resting_blood_pressure</th>\n",
       "      <th>serum_cholestoral</th>\n",
       "      <th>fasting_blood_sugar</th>\n",
       "      <th>resting_electrocardiographic_results</th>\n",
       "      <th>maximum_heart_rate_achieved</th>\n",
       "      <th>exercise_induced_angina</th>\n",
       "      <th>oldpeak</th>\n",
       "      <th>slope</th>\n",
       "      <th>number_of_major_vessels</th>\n",
       "      <th>thal</th>\n",
       "      <th>class</th>\n",
       "    </tr>\n",
       "  </thead>\n",
       "  <tbody>\n",
       "    <tr>\n",
       "      <th>0</th>\n",
       "      <td>0</td>\n",
       "      <td>49.207124</td>\n",
       "      <td>0</td>\n",
       "      <td>4.000000</td>\n",
       "      <td>162.996167</td>\n",
       "      <td>181.108682</td>\n",
       "      <td>0</td>\n",
       "      <td>0</td>\n",
       "      <td>148.227858</td>\n",
       "      <td>1</td>\n",
       "      <td>0.944547</td>\n",
       "      <td>2</td>\n",
       "      <td>0</td>\n",
       "      <td>3</td>\n",
       "      <td>1</td>\n",
       "    </tr>\n",
       "    <tr>\n",
       "      <th>1</th>\n",
       "      <td>1</td>\n",
       "      <td>53.628425</td>\n",
       "      <td>1</td>\n",
       "      <td>1.741596</td>\n",
       "      <td>130.233730</td>\n",
       "      <td>276.474630</td>\n",
       "      <td>0</td>\n",
       "      <td>2</td>\n",
       "      <td>152.917139</td>\n",
       "      <td>0</td>\n",
       "      <td>0.119070</td>\n",
       "      <td>2</td>\n",
       "      <td>0</td>\n",
       "      <td>3</td>\n",
       "      <td>0</td>\n",
       "    </tr>\n",
       "    <tr>\n",
       "      <th>2</th>\n",
       "      <td>2</td>\n",
       "      <td>49.591426</td>\n",
       "      <td>1</td>\n",
       "      <td>4.000000</td>\n",
       "      <td>146.999012</td>\n",
       "      <td>223.300517</td>\n",
       "      <td>1</td>\n",
       "      <td>2</td>\n",
       "      <td>102.352090</td>\n",
       "      <td>1</td>\n",
       "      <td>1.616747</td>\n",
       "      <td>2</td>\n",
       "      <td>2</td>\n",
       "      <td>7</td>\n",
       "      <td>1</td>\n",
       "    </tr>\n",
       "    <tr>\n",
       "      <th>3</th>\n",
       "      <td>3</td>\n",
       "      <td>58.991445</td>\n",
       "      <td>1</td>\n",
       "      <td>4.000000</td>\n",
       "      <td>112.369143</td>\n",
       "      <td>187.245501</td>\n",
       "      <td>0</td>\n",
       "      <td>0</td>\n",
       "      <td>158.164750</td>\n",
       "      <td>1</td>\n",
       "      <td>0.000000</td>\n",
       "      <td>1</td>\n",
       "      <td>1</td>\n",
       "      <td>7</td>\n",
       "      <td>1</td>\n",
       "    </tr>\n",
       "    <tr>\n",
       "      <th>4</th>\n",
       "      <td>4</td>\n",
       "      <td>51.053602</td>\n",
       "      <td>1</td>\n",
       "      <td>1.954609</td>\n",
       "      <td>138.032047</td>\n",
       "      <td>238.482868</td>\n",
       "      <td>0</td>\n",
       "      <td>0</td>\n",
       "      <td>172.540828</td>\n",
       "      <td>0</td>\n",
       "      <td>1.150464</td>\n",
       "      <td>1</td>\n",
       "      <td>1</td>\n",
       "      <td>3</td>\n",
       "      <td>0</td>\n",
       "    </tr>\n",
       "  </tbody>\n",
       "</table>\n",
       "</div>"
      ],
      "text/plain": [
       "   ID        age  sex     chest  resting_blood_pressure  serum_cholestoral  \\\n",
       "0   0  49.207124    0  4.000000              162.996167         181.108682   \n",
       "1   1  53.628425    1  1.741596              130.233730         276.474630   \n",
       "2   2  49.591426    1  4.000000              146.999012         223.300517   \n",
       "3   3  58.991445    1  4.000000              112.369143         187.245501   \n",
       "4   4  51.053602    1  1.954609              138.032047         238.482868   \n",
       "\n",
       "   fasting_blood_sugar  resting_electrocardiographic_results  \\\n",
       "0                    0                                     0   \n",
       "1                    0                                     2   \n",
       "2                    1                                     2   \n",
       "3                    0                                     0   \n",
       "4                    0                                     0   \n",
       "\n",
       "   maximum_heart_rate_achieved  exercise_induced_angina   oldpeak  slope  \\\n",
       "0                   148.227858                        1  0.944547      2   \n",
       "1                   152.917139                        0  0.119070      2   \n",
       "2                   102.352090                        1  1.616747      2   \n",
       "3                   158.164750                        1  0.000000      1   \n",
       "4                   172.540828                        0  1.150464      1   \n",
       "\n",
       "   number_of_major_vessels  thal  class  \n",
       "0                        0     3      1  \n",
       "1                        0     3      0  \n",
       "2                        2     7      1  \n",
       "3                        1     7      1  \n",
       "4                        1     3      0  "
      ]
     },
     "execution_count": 19,
     "metadata": {},
     "output_type": "execute_result"
    }
   ],
   "source": [
    "df = pd.read_csv('train.csv')\n",
    "df.head()"
   ]
  },
  {
   "cell_type": "code",
   "execution_count": 14,
   "metadata": {},
   "outputs": [
    {
     "name": "stdout",
     "output_type": "stream",
     "text": [
      "(2000, 15)\n"
     ]
    }
   ],
   "source": [
    "data = df.values[6000:8000]\n",
    "print (data.shape)"
   ]
  },
  {
   "cell_type": "code",
   "execution_count": 15,
   "metadata": {},
   "outputs": [
    {
     "name": "stdout",
     "output_type": "stream",
     "text": [
      "(1600, 14) (1600,)\n",
      "(400, 14) (400,)\n"
     ]
    }
   ],
   "source": [
    "split = int(0.8 * data.shape[0])\n",
    "\n",
    "X_train = data[:split, 1:]\n",
    "X_test = data[split:, 1:]\n",
    "\n",
    "y_train = data[:split, 0]\n",
    "y_test = data[split:, 0]\n",
    "\n",
    "print (X_train.shape, y_train.shape)\n",
    "print (X_test.shape, y_test.shape)"
   ]
  },
  {
   "cell_type": "code",
   "execution_count": 16,
   "metadata": {},
   "outputs": [
    {
     "ename": "ValueError",
     "evalue": "cannot reshape array of size 14 into shape (28,28)",
     "output_type": "error",
     "traceback": [
      "\u001b[0;31m---------------------------------------------------------------------------\u001b[0m",
      "\u001b[0;31mValueError\u001b[0m                                Traceback (most recent call last)",
      "\u001b[0;32m<ipython-input-16-77b005dfe232>\u001b[0m in \u001b[0;36m<module>\u001b[0;34m()\u001b[0m\n\u001b[1;32m      1\u001b[0m \u001b[0mplt\u001b[0m\u001b[0;34m.\u001b[0m\u001b[0mfigure\u001b[0m\u001b[0;34m(\u001b[0m\u001b[0;36m0\u001b[0m\u001b[0;34m)\u001b[0m\u001b[0;34m\u001b[0m\u001b[0m\n\u001b[0;32m----> 2\u001b[0;31m \u001b[0mplt\u001b[0m\u001b[0;34m.\u001b[0m\u001b[0mimshow\u001b[0m\u001b[0;34m(\u001b[0m\u001b[0mX_train\u001b[0m\u001b[0;34m[\u001b[0m\u001b[0;36m3\u001b[0m\u001b[0;34m]\u001b[0m\u001b[0;34m.\u001b[0m\u001b[0mreshape\u001b[0m\u001b[0;34m(\u001b[0m\u001b[0;34m(\u001b[0m\u001b[0;36m28\u001b[0m\u001b[0;34m,\u001b[0m \u001b[0;36m28\u001b[0m\u001b[0;34m)\u001b[0m\u001b[0;34m)\u001b[0m\u001b[0;34m,\u001b[0m\u001b[0minterpolation\u001b[0m\u001b[0;34m=\u001b[0m\u001b[0;34m'none'\u001b[0m\u001b[0;34m)\u001b[0m\u001b[0;34m\u001b[0m\u001b[0m\n\u001b[0m\u001b[1;32m      3\u001b[0m \u001b[0mprint\u001b[0m \u001b[0;34m(\u001b[0m\u001b[0my_train\u001b[0m\u001b[0;34m[\u001b[0m\u001b[0;36m3\u001b[0m\u001b[0;34m]\u001b[0m\u001b[0;34m)\u001b[0m\u001b[0;34m\u001b[0m\u001b[0m\n\u001b[1;32m      4\u001b[0m \u001b[0mplt\u001b[0m\u001b[0;34m.\u001b[0m\u001b[0mshow\u001b[0m\u001b[0;34m(\u001b[0m\u001b[0;34m)\u001b[0m\u001b[0;34m\u001b[0m\u001b[0m\n",
      "\u001b[0;31mValueError\u001b[0m: cannot reshape array of size 14 into shape (28,28)"
     ]
    },
    {
     "data": {
      "text/plain": [
       "<matplotlib.figure.Figure at 0x7fd86a10e860>"
      ]
     },
     "metadata": {},
     "output_type": "display_data"
    }
   ],
   "source": []
  },
  {
   "cell_type": "code",
   "execution_count": 17,
   "metadata": {},
   "outputs": [
    {
     "name": "stdout",
     "output_type": "stream",
     "text": [
      "2   0.0\n"
     ]
    }
   ],
   "source": [
    "def get_acc1(kx):\n",
    "    #TODO\n",
    "    right=0;\n",
    "    total=X_test.shape[0]\n",
    "    for i in range(total):\n",
    "        group=knn(X_train,y_train,X_test[i],kx)\n",
    "        if(group==y_test[i]):\n",
    "            right+=1\n",
    "    return 100*(right/float(total))\n",
    "\n",
    "for i in range(500):\n",
    "    if(i==2):\n",
    "        print (i,\" \",get_acc1(i))\n",
    "        \n"
   ]
  },
  {
   "cell_type": "code",
   "execution_count": 18,
   "metadata": {},
   "outputs": [
    {
     "name": "stdout",
     "output_type": "stream",
     "text": [
      "8   0.0\n",
      "9   0.0\n",
      "10   0.0\n",
      "11   0.0\n",
      "12   0.0\n",
      "13   0.0\n",
      "14   0.0\n"
     ]
    }
   ],
   "source": [
    "\n",
    "from sklearn.neighbors import KNeighborsClassifier\n",
    " \n",
    "def get_acc2(kx):\n",
    "    #TODO\n",
    "    right=0;\n",
    "    total=X_test.shape[0]\n",
    "    for i in range(total):\n",
    "        neigh = KNeighborsClassifier(n_neighbors=kx)\n",
    "        neigh.fit(X_train, y_train)\n",
    "        group=neigh.predict([X_test[i]])\n",
    "        if(group==y_test[i]):\n",
    "            right+=1\n",
    "    return 100*(right/float(total))\n",
    "for i in range(500):\n",
    "    if(i>7 and i<15):\n",
    "        print (i,\" \",get_acc2(i))\n",
    "#get_acc2(10)"
   ]
  },
  {
   "cell_type": "code",
   "execution_count": null,
   "metadata": {},
   "outputs": [],
   "source": []
  }
 ],
 "metadata": {
  "kernelspec": {
   "display_name": "Python 3",
   "language": "python",
   "name": "python3"
  },
  "language_info": {
   "codemirror_mode": {
    "name": "ipython",
    "version": 3
   },
   "file_extension": ".py",
   "mimetype": "text/x-python",
   "name": "python",
   "nbconvert_exporter": "python",
   "pygments_lexer": "ipython3",
   "version": "3.6.4"
  }
 },
 "nbformat": 4,
 "nbformat_minor": 2
}
