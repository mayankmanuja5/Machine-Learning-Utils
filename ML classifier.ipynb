{
 "cells": [
  {
   "cell_type": "code",
   "execution_count": 1,
   "metadata": {},
   "outputs": [],
   "source": [
    "import numpy as np\n",
    "import pandas as pd\n",
    "from matplotlib import pyplot as plt\n",
    "%matplotlib inline\n",
    "import seaborn as sns"
   ]
  },
  {
   "cell_type": "code",
   "execution_count": 2,
   "metadata": {},
   "outputs": [],
   "source": [
    "#label encoder\n",
    "from sklearn.preprocessing import LabelEncoder\n",
    "def dummyEncode(df):\n",
    "        columnsToEncode = list(df.select_dtypes(include=['category','object']))\n",
    "        le = LabelEncoder()\n",
    "        for feature in columnsToEncode:\n",
    "            \n",
    "                df[feature] = le.fit_transform(df[feature])\n",
    "           \n",
    "        return df\n",
    "#splitter\n",
    "def split(X,y,splitratio):\n",
    "    trainsize=int(X.shape[0]*splitratio)\n",
    "    xtrain=X[:trainsize]\n",
    "    ytrain=y[:trainsize]\n",
    "    xtest=X[trainsize:]\n",
    "    ytest=y[trainsize:]\n",
    "    return xtrain,ytrain,xtest,ytest\n",
    "#get accuracy\n",
    "def getacc(y_pred,yp2):\n",
    "    right=0\n",
    "    for i in range(len(y_pred)):\n",
    "        if(y_pred[i]==yp2[i]):\n",
    "            right+=1\n",
    "    return (100*right/float(len(y_pred)))"
   ]
  },
  {
   "cell_type": "code",
   "execution_count": 3,
   "metadata": {},
   "outputs": [
    {
     "name": "stdout",
     "output_type": "stream",
     "text": [
      "<class 'pandas.core.frame.DataFrame'>\n",
      "RangeIndex: 600000 entries, 0 to 599999\n",
      "Data columns (total 15 columns):\n",
      "ID                                      600000 non-null int64\n",
      "age                                     600000 non-null float64\n",
      "sex                                     600000 non-null int64\n",
      "chest                                   600000 non-null float64\n",
      "resting_blood_pressure                  600000 non-null float64\n",
      "serum_cholestoral                       600000 non-null float64\n",
      "fasting_blood_sugar                     600000 non-null int64\n",
      "resting_electrocardiographic_results    600000 non-null int64\n",
      "maximum_heart_rate_achieved             600000 non-null float64\n",
      "exercise_induced_angina                 600000 non-null int64\n",
      "oldpeak                                 600000 non-null float64\n",
      "slope                                   600000 non-null int64\n",
      "number_of_major_vessels                 600000 non-null int64\n",
      "thal                                    600000 non-null int64\n",
      "class                                   600000 non-null int64\n",
      "dtypes: float64(6), int64(9)\n",
      "memory usage: 68.7 MB\n"
     ]
    }
   ],
   "source": [
    "ds = pd.read_csv('train.csv')\n",
    "ds.info()"
   ]
  },
  {
   "cell_type": "code",
   "execution_count": null,
   "metadata": {},
   "outputs": [],
   "source": []
  },
  {
   "cell_type": "code",
   "execution_count": 4,
   "metadata": {},
   "outputs": [
    {
     "data": {
      "text/html": [
       "<div>\n",
       "<style scoped>\n",
       "    .dataframe tbody tr th:only-of-type {\n",
       "        vertical-align: middle;\n",
       "    }\n",
       "\n",
       "    .dataframe tbody tr th {\n",
       "        vertical-align: top;\n",
       "    }\n",
       "\n",
       "    .dataframe thead th {\n",
       "        text-align: right;\n",
       "    }\n",
       "</style>\n",
       "<table border=\"1\" class=\"dataframe\">\n",
       "  <thead>\n",
       "    <tr style=\"text-align: right;\">\n",
       "      <th></th>\n",
       "      <th>ID</th>\n",
       "      <th>age</th>\n",
       "      <th>sex</th>\n",
       "      <th>chest</th>\n",
       "      <th>resting_blood_pressure</th>\n",
       "      <th>serum_cholestoral</th>\n",
       "      <th>fasting_blood_sugar</th>\n",
       "      <th>resting_electrocardiographic_results</th>\n",
       "      <th>maximum_heart_rate_achieved</th>\n",
       "      <th>exercise_induced_angina</th>\n",
       "      <th>oldpeak</th>\n",
       "      <th>slope</th>\n",
       "      <th>number_of_major_vessels</th>\n",
       "      <th>thal</th>\n",
       "      <th>class</th>\n",
       "    </tr>\n",
       "  </thead>\n",
       "  <tbody>\n",
       "    <tr>\n",
       "      <th>0</th>\n",
       "      <td>0</td>\n",
       "      <td>49.207124</td>\n",
       "      <td>0</td>\n",
       "      <td>4.000000</td>\n",
       "      <td>162.996167</td>\n",
       "      <td>181.108682</td>\n",
       "      <td>0</td>\n",
       "      <td>0</td>\n",
       "      <td>148.227858</td>\n",
       "      <td>1</td>\n",
       "      <td>0.944547</td>\n",
       "      <td>2</td>\n",
       "      <td>0</td>\n",
       "      <td>3</td>\n",
       "      <td>1</td>\n",
       "    </tr>\n",
       "    <tr>\n",
       "      <th>1</th>\n",
       "      <td>1</td>\n",
       "      <td>53.628425</td>\n",
       "      <td>1</td>\n",
       "      <td>1.741596</td>\n",
       "      <td>130.233730</td>\n",
       "      <td>276.474630</td>\n",
       "      <td>0</td>\n",
       "      <td>2</td>\n",
       "      <td>152.917139</td>\n",
       "      <td>0</td>\n",
       "      <td>0.119070</td>\n",
       "      <td>2</td>\n",
       "      <td>0</td>\n",
       "      <td>3</td>\n",
       "      <td>0</td>\n",
       "    </tr>\n",
       "    <tr>\n",
       "      <th>2</th>\n",
       "      <td>2</td>\n",
       "      <td>49.591426</td>\n",
       "      <td>1</td>\n",
       "      <td>4.000000</td>\n",
       "      <td>146.999012</td>\n",
       "      <td>223.300517</td>\n",
       "      <td>1</td>\n",
       "      <td>2</td>\n",
       "      <td>102.352090</td>\n",
       "      <td>1</td>\n",
       "      <td>1.616747</td>\n",
       "      <td>2</td>\n",
       "      <td>2</td>\n",
       "      <td>7</td>\n",
       "      <td>1</td>\n",
       "    </tr>\n",
       "    <tr>\n",
       "      <th>3</th>\n",
       "      <td>3</td>\n",
       "      <td>58.991445</td>\n",
       "      <td>1</td>\n",
       "      <td>4.000000</td>\n",
       "      <td>112.369143</td>\n",
       "      <td>187.245501</td>\n",
       "      <td>0</td>\n",
       "      <td>0</td>\n",
       "      <td>158.164750</td>\n",
       "      <td>1</td>\n",
       "      <td>0.000000</td>\n",
       "      <td>1</td>\n",
       "      <td>1</td>\n",
       "      <td>7</td>\n",
       "      <td>1</td>\n",
       "    </tr>\n",
       "    <tr>\n",
       "      <th>4</th>\n",
       "      <td>4</td>\n",
       "      <td>51.053602</td>\n",
       "      <td>1</td>\n",
       "      <td>1.954609</td>\n",
       "      <td>138.032047</td>\n",
       "      <td>238.482868</td>\n",
       "      <td>0</td>\n",
       "      <td>0</td>\n",
       "      <td>172.540828</td>\n",
       "      <td>0</td>\n",
       "      <td>1.150464</td>\n",
       "      <td>1</td>\n",
       "      <td>1</td>\n",
       "      <td>3</td>\n",
       "      <td>0</td>\n",
       "    </tr>\n",
       "  </tbody>\n",
       "</table>\n",
       "</div>"
      ],
      "text/plain": [
       "   ID        age  sex     chest  resting_blood_pressure  serum_cholestoral  \\\n",
       "0   0  49.207124    0  4.000000              162.996167         181.108682   \n",
       "1   1  53.628425    1  1.741596              130.233730         276.474630   \n",
       "2   2  49.591426    1  4.000000              146.999012         223.300517   \n",
       "3   3  58.991445    1  4.000000              112.369143         187.245501   \n",
       "4   4  51.053602    1  1.954609              138.032047         238.482868   \n",
       "\n",
       "   fasting_blood_sugar  resting_electrocardiographic_results  \\\n",
       "0                    0                                     0   \n",
       "1                    0                                     2   \n",
       "2                    1                                     2   \n",
       "3                    0                                     0   \n",
       "4                    0                                     0   \n",
       "\n",
       "   maximum_heart_rate_achieved  exercise_induced_angina   oldpeak  slope  \\\n",
       "0                   148.227858                        1  0.944547      2   \n",
       "1                   152.917139                        0  0.119070      2   \n",
       "2                   102.352090                        1  1.616747      2   \n",
       "3                   158.164750                        1  0.000000      1   \n",
       "4                   172.540828                        0  1.150464      1   \n",
       "\n",
       "   number_of_major_vessels  thal  class  \n",
       "0                        0     3      1  \n",
       "1                        0     3      0  \n",
       "2                        2     7      1  \n",
       "3                        1     7      1  \n",
       "4                        1     3      0  "
      ]
     },
     "execution_count": 4,
     "metadata": {},
     "output_type": "execute_result"
    }
   ],
   "source": [
    "ds.head()"
   ]
  },
  {
   "cell_type": "code",
   "execution_count": 5,
   "metadata": {},
   "outputs": [
    {
     "name": "stdout",
     "output_type": "stream",
     "text": [
      "(600000, 13)\n"
     ]
    }
   ],
   "source": [
    "#drop features, make X,y\n",
    "X=ds\n",
    "\n",
    "X=X.drop(['ID'],axis=1) #drop features\n",
    "X=X.dropna()\n",
    "y=X['class']\n",
    "X=X.drop(['class'],axis=1)#drop the class to be predicted\n",
    "print (X.shape)"
   ]
  },
  {
   "cell_type": "code",
   "execution_count": null,
   "metadata": {},
   "outputs": [],
   "source": []
  },
  {
   "cell_type": "code",
   "execution_count": 6,
   "metadata": {},
   "outputs": [],
   "source": [
    "X=dummyEncode(X)"
   ]
  },
  {
   "cell_type": "code",
   "execution_count": 7,
   "metadata": {},
   "outputs": [],
   "source": [
    "xtrain,ytrain,xtest,ytest=split(X,y,0.8)\n",
    "#convert to list, coz idk how to access a fckng dataframe\n",
    "yp2=[]\n",
    "for i in ytest:\n",
    "    yp2.append(i)"
   ]
  },
  {
   "cell_type": "code",
   "execution_count": 8,
   "metadata": {},
   "outputs": [],
   "source": [
    "#naive bayes\n",
    "def naivebayes(X,y,xtest):\n",
    "    from sklearn.naive_bayes import GaussianNB\n",
    "    gnb = GaussianNB()\n",
    "    y_pred = gnb.fit(xtrain, ytrain).predict(xtest)\n",
    "    print(\"naive bayes\")\n",
    "    #print (getacc(y_pred,yp2))\n",
    "    return y_pred\n"
   ]
  },
  {
   "cell_type": "code",
   "execution_count": 9,
   "metadata": {},
   "outputs": [],
   "source": [
    "#Decision Tree Classifier , run multiple times to get diff accuracy \n",
    "def dectree(X,y,xtest):\n",
    "    from sklearn import tree\n",
    "    clf = tree.DecisionTreeClassifier(max_depth=1)\n",
    "    clf = clf.fit(xtrain, ytrain)\n",
    "    y_pred=clf.predict(xtest)\n",
    "    print(\"dec-tree\")\n",
    "    return y_pred"
   ]
  },
  {
   "cell_type": "code",
   "execution_count": 10,
   "metadata": {},
   "outputs": [],
   "source": [
    "#adabooster , n estimators\n",
    "def adabooster(X,y,xtest):\n",
    "    from sklearn.ensemble import AdaBoostClassifier\n",
    "    from sklearn.tree import DecisionTreeClassifier\n",
    "    bdt = AdaBoostClassifier(\n",
    "                             algorithm=\"SAMME.R\",\n",
    "                             n_estimators=100,learning_rate=0.6)\n",
    "    bdt.fit(xtrain,ytrain)\n",
    "    y_pred=bdt.predict(xtest)\n",
    "    print(\"adabooster\")\n",
    "    #print(getacc(y_pred,yp2))\n",
    "    return y_pred\n",
    "\n"
   ]
  },
  {
   "cell_type": "code",
   "execution_count": 11,
   "metadata": {},
   "outputs": [],
   "source": [
    "#Random forest classifier\n",
    "def randomforest(X,y,xtest):\n",
    "    from sklearn.ensemble import RandomForestClassifier\n",
    "    clf = RandomForestClassifier(n_estimators=100,random_state=0)\n",
    "    clf.fit(X, y)\n",
    "    y_pred=clf.predict(xtest)\n",
    "    print(\"randome forest\")\n",
    "    return y_pred\n"
   ]
  },
  {
   "cell_type": "code",
   "execution_count": 12,
   "metadata": {},
   "outputs": [],
   "source": [
    "#Gradient Boosting Classifier\n",
    "def gradboost(X,y,xtest):\n",
    "    from sklearn.ensemble import GradientBoostingClassifier\n",
    "    clf = GradientBoostingClassifier(n_estimators=100, learning_rate=2,max_depth=5,random_state=0)\n",
    "    clf.fit(X, y)\n",
    "    y_pred=clf.predict(xtest)\n",
    "    print(\"Gradient boost\")\n",
    "    print(getacc(y_pred,yp2))\n",
    "    return getacc(y_pred,yp2)\n",
    "def gradboost1(X,y,xtest):\n",
    "    from sklearn.ensemble import GradientBoostingClassifier\n",
    "    clf = GradientBoostingClassifier(n_estimators=500,learning_rate=0.6, max_depth=1,random_state=0)\n",
    "    clf.fit(X, y)\n",
    "    y_pred=clf.predict(xtest)\n",
    "    print(\"Gradient boost\")\n",
    "    #print(getacc(y_pred,yp2))\n",
    "    return y_pred"
   ]
  },
  {
   "cell_type": "code",
   "execution_count": 13,
   "metadata": {},
   "outputs": [],
   "source": [
    "def callall(X,y,xtest):\n",
    "    gradboost(X,y,xtest)\n",
    "    randomforest(X,y,xtest)\n",
    "    naivebayes(X,y,xtest)\n",
    "    dectree(X,y,xtest)\n",
    "    #adabooster(X,y,xtest)\n",
    "def callall2(X,y,xtest):\n",
    "    #y1=gradboost1(X,y,xtest)\n",
    "    #y2=dectree(X,y,xtest)\n",
    "    #y3=randomforest(X,y,xtest)\n",
    "    y4=adabooster(X,y,xtest)\n",
    "    #y5=naivebayes(X,y,xtest)\n",
    "    yf=[]\n",
    "    for i in range(len(y4)):\n",
    "        x=0\n",
    "        #if(y1[i]):\n",
    "        #    x+=1\n",
    "        #if(y2[i]):\n",
    "        #    x+=0\n",
    "        #if(y3[i]):\n",
    "        #    x+=1\n",
    "        if(y4[i]):\n",
    "            x+=1\n",
    "        #if(y5[i]):\n",
    "        #    x+=1\n",
    "        if(x>0):\n",
    "            yf.append(0)\n",
    "        else:\n",
    "            yf.append(1)\n",
    "    return yf\n",
    "            \n",
    "    \n"
   ]
  },
  {
   "cell_type": "code",
   "execution_count": 14,
   "metadata": {},
   "outputs": [],
   "source": [
    "td=pd.read_csv('test.csv')\n",
    "\n",
    "td=dummyEncode(td)\n",
    "Srno=[]\n",
    "for i in td['ID']:\n",
    "    Srno.append(i)\n",
    "td=td.drop(['ID'],axis=1)\n",
    "td=dummyEncode(td)"
   ]
  },
  {
   "cell_type": "code",
   "execution_count": null,
   "metadata": {},
   "outputs": [],
   "source": []
  },
  {
   "cell_type": "code",
   "execution_count": 15,
   "metadata": {},
   "outputs": [],
   "source": [
    "\n",
    "#yfinal1=callall2(X,y,td)\n"
   ]
  },
  {
   "cell_type": "code",
   "execution_count": 16,
   "metadata": {},
   "outputs": [],
   "source": [
    "from sklearn.neighbors import KNeighborsClassifier\n",
    "def get_acc2(kx):\n",
    "    #TODO\n",
    "    right=0;\n",
    "    total=xtest.shape[0]\n",
    "    for i in range(total):\n",
    "        neigh = KNeighborsClassifier(n_neighbors=kx)\n",
    "        neigh.fit(xtrain, ytrain)\n",
    "        print(xtest[i])\n",
    "        #group=neigh.predict([xtest[i]])\n",
    "        #if(group==ytest[i]):\n",
    "         #   right+=1\n",
    "    return 100*(right/float(total))"
   ]
  },
  {
   "cell_type": "code",
   "execution_count": 29,
   "metadata": {},
   "outputs": [
    {
     "name": "stdout",
     "output_type": "stream",
     "text": [
      "1   100.0\n",
      "2   88.4875\n",
      "3   89.5575\n",
      "4   86.85666666666667\n",
      "5   87.27416666666667\n",
      "6   85.84416666666667\n",
      "7   86.19333333333333\n",
      "8   85.3075\n",
      "9   85.40083333333334\n",
      "10   84.79\n",
      "11   84.92666666666666\n",
      "12   84.44166666666666\n",
      "13   84.52416666666667\n",
      "14   84.21166666666667\n",
      "15   84.17083333333333\n",
      "16   83.90833333333333\n",
      "17   83.95083333333334\n",
      "18   83.61333333333333\n",
      "19   83.71416666666667\n"
     ]
    }
   ],
   "source": [
    "#get_acc2(7)\n",
    "for i in range(20):\n",
    "    if(i==0):\n",
    "        continue\n",
    "    neigh = KNeighborsClassifier(n_neighbors=i)\n",
    "    neigh.fit(X, y)\n",
    "    group=neigh.predict(xtest)\n",
    "    print(i,\" \",getacc(group,yp2))\n"
   ]
  },
  {
   "cell_type": "code",
   "execution_count": 38,
   "metadata": {},
   "outputs": [
    {
     "name": "stdout",
     "output_type": "stream",
     "text": [
      "400000\n",
      "120000\n",
      "[1 1 0 ... 0 0 1]\n"
     ]
    }
   ],
   "source": [
    "neigh = KNeighborsClassifier(n_neighbors=7)\n",
    "neigh.fit(X, y)\n",
    "group=neigh.predict(td)\n",
    "df3 = pd.DataFrame()\n",
    "print(len(group))\n",
    "print(len(ytest))\n",
    "print(group)\n",
    "\n"
   ]
  },
  {
   "cell_type": "code",
   "execution_count": 39,
   "metadata": {},
   "outputs": [],
   "source": [
    "df3['ID'] = Srno"
   ]
  },
  {
   "cell_type": "code",
   "execution_count": null,
   "metadata": {},
   "outputs": [],
   "source": []
  },
  {
   "cell_type": "code",
   "execution_count": 40,
   "metadata": {},
   "outputs": [],
   "source": [
    "df3['class'] = group"
   ]
  },
  {
   "cell_type": "code",
   "execution_count": 41,
   "metadata": {},
   "outputs": [],
   "source": [
    "df3.to_csv('Sub.csv',index=False)"
   ]
  },
  {
   "cell_type": "code",
   "execution_count": null,
   "metadata": {},
   "outputs": [],
   "source": []
  }
 ],
 "metadata": {
  "kernelspec": {
   "display_name": "Python 3",
   "language": "python",
   "name": "python3"
  },
  "language_info": {
   "codemirror_mode": {
    "name": "ipython",
    "version": 3
   },
   "file_extension": ".py",
   "mimetype": "text/x-python",
   "name": "python",
   "nbconvert_exporter": "python",
   "pygments_lexer": "ipython3",
   "version": "3.6.4"
  }
 },
 "nbformat": 4,
 "nbformat_minor": 2
}
