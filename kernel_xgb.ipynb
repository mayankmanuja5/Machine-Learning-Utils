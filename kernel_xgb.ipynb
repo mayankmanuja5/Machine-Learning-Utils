{
 "cells": [
  {
   "cell_type": "code",
   "execution_count": 1,
   "metadata": {
    "_uuid": "8fcca0078427dbf5c4c2e587aa7148fb2d75c682"
   },
   "outputs": [],
   "source": [
    "#importing Libraries \n",
    "import numpy as np\n",
    "import pandas as pd\n",
    "import xgboost as xgb\n",
    "from sklearn import preprocessing\n",
    "from sklearn.model_selection import StratifiedKFold\n",
    "from sklearn.preprocessing import StandardScaler\n",
    "from sklearn.pipeline import Pipeline \n",
    "from sklearn.metrics import mean_squared_error\n",
    "import warnings\n",
    "warnings.filterwarnings('ignore')\n",
    "from sklearn.model_selection import RandomizedSearchCV, GridSearchCV\n",
    "from sklearn.metrics import roc_auc_score\n",
    "from sklearn.model_selection import StratifiedKFold\n",
    "from xgboost import XGBClassifier\n",
    "\n"
   ]
  },
  {
   "cell_type": "code",
   "execution_count": 2,
   "metadata": {
    "_uuid": "8d95c1048c67c7498978da342400abadce066794"
   },
   "outputs": [],
   "source": [
    "pd.set_option('display.max_columns', None)\n",
    "pd.set_option('display.max_rows', None)\n",
    "\n",
    "##reading the data\n",
    "dat = pd.read_csv('train.csv')\n",
    "test = pd.read_csv('test.csv')\n"
   ]
  },
  {
   "cell_type": "code",
   "execution_count": null,
   "metadata": {
    "_uuid": "a20696afa4d09d7510ee8416ca85cec3e6712fed"
   },
   "outputs": [],
   "source": []
  },
  {
   "cell_type": "code",
   "execution_count": 3,
   "metadata": {
    "_uuid": "7abcec8cc9275273912735c716ab2beaaeaf5430"
   },
   "outputs": [],
   "source": [
    "X, y = dat.iloc[:, 1:-1] , dat.iloc[:,-1]"
   ]
  },
  {
   "cell_type": "code",
   "execution_count": 4,
   "metadata": {
    "_uuid": "7e5612f4f6ca65939152c4c969279ea2ddbf1041"
   },
   "outputs": [],
   "source": [
    "scalar = StandardScaler()\n",
    "X_nw = scalar.fit_transform(X)"
   ]
  },
  {
   "cell_type": "code",
   "execution_count": 5,
   "metadata": {
    "_uuid": "938f9c26a6e11e31ff804a3c0f441152fb9d65ff"
   },
   "outputs": [],
   "source": [
    "params = {\n",
    "        'min_child_weight': [1, 5, 10],\n",
    "        'gamma': [0.5, 1, 1.5, 2, 5],\n",
    "        'subsample': [0.6, 0.8, 1.0],\n",
    "        'colsample_bytree': [0.6, 0.8, 1.0],\n",
    "        'max_depth': [3, 4, 5, 6, 7]\n",
    "        }"
   ]
  },
  {
   "cell_type": "code",
   "execution_count": 6,
   "metadata": {
    "_uuid": "69307d19cea67387a5ae01fa99e4e84a12ccc680"
   },
   "outputs": [],
   "source": [
    "xg = xgb.XGBClassifier(objective ='binary:logistic' , colsample_bytree = 1.0 , learning_rate = 0.05,\n",
    "                max_depth = 5, alpha = 10, n_estimators = 700 )"
   ]
  },
  {
   "cell_type": "code",
   "execution_count": null,
   "metadata": {
    "_uuid": "15f7bacda5431952a8923eb6f238ada74de5d928"
   },
   "outputs": [],
   "source": []
  },
  {
   "cell_type": "code",
   "execution_count": null,
   "metadata": {
    "_uuid": "2e0525257b668d804f0e36958cd23e2656d3ae9e"
   },
   "outputs": [
    {
     "name": "stdout",
     "output_type": "stream",
     "text": [
      "Fitting 5 folds for each of 5 candidates, totalling 25 fits\n",
      "[CV] subsample=0.6, min_child_weight=1, max_depth=4, gamma=5, colsample_bytree=0.6 \n",
      "[CV] subsample=0.6, min_child_weight=1, max_depth=4, gamma=5, colsample_bytree=0.6 \n",
      "[CV] subsample=0.6, min_child_weight=1, max_depth=4, gamma=5, colsample_bytree=0.6 \n",
      "[CV] subsample=0.6, min_child_weight=1, max_depth=4, gamma=5, colsample_bytree=0.6 \n"
     ]
    }
   ],
   "source": [
    "folds = 5\n",
    "param_comb = 5\n",
    "\n",
    "skf = StratifiedKFold(n_splits=folds, shuffle = True, random_state = 1001)\n",
    "random_search = RandomizedSearchCV( xg , param_distributions=params, n_iter=param_comb, scoring='roc_auc', n_jobs= 4, cv=skf.split(X_nw,y), verbose=3, random_state=1001 )\n",
    "random_search.fit(X_nw, y)\n"
   ]
  },
  {
   "cell_type": "code",
   "execution_count": null,
   "metadata": {
    "_uuid": "97b90c7aa06462f5febf2c02fbfcc2161b1d4538"
   },
   "outputs": [],
   "source": []
  },
  {
   "cell_type": "code",
   "execution_count": null,
   "metadata": {
    "_uuid": "8518821168ce6c38d9fd142234031151fe5a7a0d"
   },
   "outputs": [],
   "source": []
  },
  {
   "cell_type": "code",
   "execution_count": null,
   "metadata": {
    "_uuid": "247508d8f950d28a8d220a70852f5e2e33646edc"
   },
   "outputs": [],
   "source": [
    "from sklearn.metrics import accuracy_score\n",
    "y_p = random_search.predict(X_nw)\n",
    "accuracy_score(y, y_p)"
   ]
  },
  {
   "cell_type": "code",
   "execution_count": null,
   "metadata": {
    "_uuid": "f40601f065bd744b64beef2b6fc5257e5dbe4190"
   },
   "outputs": [],
   "source": [
    "X_t, idd = test.iloc[:, 1:] , test.iloc[:,0]\n",
    "Xt = scalar.fit_transform(X_t)"
   ]
  },
  {
   "cell_type": "code",
   "execution_count": null,
   "metadata": {
    "_uuid": "930617c852c9bff1c7f26cc0e700adf89d53346f"
   },
   "outputs": [],
   "source": [
    "y_t = random_search.predict(Xt)"
   ]
  },
  {
   "cell_type": "code",
   "execution_count": null,
   "metadata": {
    "_uuid": "dc86557d62604b432263ecd2a5a4cdbcdb777c22"
   },
   "outputs": [],
   "source": [
    "fn = pd.DataFrame()\n",
    "fn['ID'] = idd\n",
    "fn['class'] = y_t\n",
    "fn.to_csv('sol_3.csv' , index= False)"
   ]
  },
  {
   "cell_type": "code",
   "execution_count": null,
   "metadata": {
    "_uuid": "490921aed61aae90e975150c0de74f8de84657e3"
   },
   "outputs": [],
   "source": []
  },
  {
   "cell_type": "code",
   "execution_count": null,
   "metadata": {
    "_uuid": "88872ee62a0c359185c09f097ade17536fd944e1"
   },
   "outputs": [],
   "source": []
  }
 ],
 "metadata": {
  "kernelspec": {
   "display_name": "Python 3",
   "language": "python",
   "name": "python3"
  },
  "language_info": {
   "codemirror_mode": {
    "name": "ipython",
    "version": 3
   },
   "file_extension": ".py",
   "mimetype": "text/x-python",
   "name": "python",
   "nbconvert_exporter": "python",
   "pygments_lexer": "ipython3",
   "version": "3.6.4"
  }
 },
 "nbformat": 4,
 "nbformat_minor": 1
}
